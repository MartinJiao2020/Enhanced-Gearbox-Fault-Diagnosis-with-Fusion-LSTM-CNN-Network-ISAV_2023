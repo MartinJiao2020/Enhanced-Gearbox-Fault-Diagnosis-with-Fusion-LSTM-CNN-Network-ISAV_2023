{
 "cells": [
  {
   "cell_type": "code",
   "execution_count": 2,
   "metadata": {},
   "outputs": [
    {
     "name": "stderr",
     "output_type": "stream",
     "text": [
      "C:\\Users\\YSNsec\\AppData\\Local\\Temp\\ipykernel_10128\\2419190418.py:24: UserWarning: Boolean Series key will be reindexed to match DataFrame index.\n",
      "  df_filtered = df_filt[mask2]\n"
     ]
    }
   ],
   "source": [
    "import pandas as pd\n",
    "import Utils\n",
    "\n",
    "df = pd.read_csv('E:\\Thesis\\ISAV2023V2\\ISAV_2023_V2\\Dataset\\Dataset-Raja.csv')\n",
    "#df['Faulty'] = df['Faulty'].replace({False: 0, True: 1})\n",
    "\n",
    "\"\"\"\n",
    "print(df.head())\n",
    "\n",
    "its better to keep numpy format because CWT uses numpy and before network make it pytorch\n",
    "\n",
    "X = torch.tensor(df['Datas' ].values).reshape(Total_test,samples_per_test)\n",
    "Y = torch.tensor(df['Faulty'].values).reshape(Total_test,samples_per_test)\n",
    "\"\"\"\n",
    "\n",
    "\"\"\"\n",
    "\n",
    "\"\"\"\n",
    "\n",
    "mask = df['Test_ID'] != 2 \n",
    "df_filt = df[mask]\n",
    "\n",
    "mask2 = df['Test_ID'] != 10\n",
    "df_filtered = df_filt[mask2]\n",
    "\n",
    "df_filtered['Test_ID'].unique()\n",
    "\n",
    "\"\"\"\n",
    "\n",
    "Test 2 & test 10 are removed\n",
    "\n",
    "\"\"\"\n",
    "df_loaded   = df_filtered[df_filtered['Generator']==1]\n",
    "df_filtered = df_filtered[df_filtered['Generator']!=1]\n",
    "df_filtered = df_filtered[df_filtered['C6']!=1]\n",
    "\n",
    "df_filtered['label'] = df_filtered['C5'].apply(lambda x: 1 if x==1 else 0)\n",
    "\n",
    "\n",
    "data = df_filtered.drop(columns=['Column1', 'IDs', 'Time', 'Name_file', 'C5', 'C6', 'Manifold', 'Generator'])\n",
    "data.head()\n",
    "\n",
    "\n",
    "Utils.Total_test = data['Datas' ].values.shape[0]//Utils.samples_per_test\n",
    "X_numpy = data['Datas' ].values.reshape(Utils.Total_test,Utils.samples_per_test)\n",
    "Y_numpy = data['label'].values.reshape(Utils.Total_test,Utils.samples_per_test)"
   ]
  }
 ],
 "metadata": {
  "kernelspec": {
   "display_name": "torch3.11",
   "language": "python",
   "name": "python3"
  },
  "language_info": {
   "codemirror_mode": {
    "name": "ipython",
    "version": 3
   },
   "file_extension": ".py",
   "mimetype": "text/x-python",
   "name": "python",
   "nbconvert_exporter": "python",
   "pygments_lexer": "ipython3",
   "version": "3.11.4"
  },
  "orig_nbformat": 4
 },
 "nbformat": 4,
 "nbformat_minor": 2
}

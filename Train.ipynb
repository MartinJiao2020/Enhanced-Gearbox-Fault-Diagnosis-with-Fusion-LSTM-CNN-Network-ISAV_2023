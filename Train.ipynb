{
 "cells": [
  {
   "cell_type": "code",
   "execution_count": 1,
   "metadata": {},
   "outputs": [
    {
     "name": "stderr",
     "output_type": "stream",
     "text": [
      "e:\\Thesis\\ISAV2023V2\\ISAV_2023_V2\\Dataloader\\__init__.py:24: UserWarning: Boolean Series key will be reindexed to match DataFrame index.\n",
      "  df_filtered = df_filt[mask2]\n"
     ]
    }
   ],
   "source": [
    "import Utils\n",
    "Utils.set_seed(Utils.seed)\n",
    "\n",
    "import Dataloader,  Model\n",
    "import torch\n",
    "import tqdm\n",
    "import numpy                as  np\n",
    "import matplotlib.pyplot    as  plt\n",
    "import torch.nn             as  nn\n"
   ]
  },
  {
   "cell_type": "markdown",
   "metadata": {},
   "source": [
    "# Continuous Wavelet transform (CWT)"
   ]
  },
  {
   "cell_type": "code",
   "execution_count": 5,
   "metadata": {},
   "outputs": [],
   "source": [
    "import pandas as pd\n",
    "df = pd.read_csv('Dataset\\Gear.csv')\n",
    "\n",
    "_datas = 20\n",
    "X_numpy = df['Data' ].values.reshape(_datas,len(df['Data'])//_datas)\n",
    "Y_numpy = df['Faulty'].values.reshape(_datas,len(df['Data'])//_datas)"
   ]
  },
  {
   "cell_type": "code",
   "execution_count": null,
   "metadata": {},
   "outputs": [],
   "source": [
    "# scales = np.arange(1, Utils.Scales)\n",
    "# import pywt\n",
    "# for wavelet in reversed(Utils.wavelet_lis):\n",
    "#     # Perform Continuous Wavelet Transform\n",
    "#     print(wavelet)\n",
    "#     coefficients, frequencies = pywt.cwt(Dataloader.X_numpy[1,:Utils.input_horizon], scales, wavelet)\n",
    "\n",
    "#     # # Plot the results\n",
    "#     # plt.figure(figsize=(10, 6))\n",
    "#     # plt.imshow(np.abs(coefficients), extent=[0, 1, 1, Utils.Scales], aspect='auto', cmap='jet')\n",
    "#     # plt.colorbar(label='Magnitude')\n",
    "#     # plt.title('Continuous Wavelet Transform')\n",
    "#     # plt.xlabel('Time')\n",
    "#     # plt.ylabel('Scale')\n",
    "#     # plt.show()\n",
    "\n",
    "# if Utils.Coefficient_Real:\n",
    "#     coefficients = np.abs(coefficients)"
   ]
  },
  {
   "cell_type": "code",
   "execution_count": 6,
   "metadata": {},
   "outputs": [],
   "source": [
    "from    torchvision.models          import  resnet50, ResNet50_Weights\n",
    "from    torchvision.transforms      import  Resize\n",
    "import                         pywt\n",
    "\n",
    "\n",
    "class ResNetFeatureExtractor(nn.Module):\n",
    "    def __init__(self,\n",
    "                 cut    = -1,\n",
    "                 ):\n",
    "        super(ResNetFeatureExtractor, self).__init__()\n",
    "        self.resnet  = resnet50(weights = ResNet50_Weights.IMAGENET1K_V2)\n",
    "        # Remove the classification layer (the last fully connected layer)\n",
    "        # and pooling layer\n",
    "        self.resnet = torch.nn.Sequential(*list(self.resnet.children())[:cut])\n",
    "        self.ssshape = 2048\n",
    "        self.fc = torch.nn.Sequential(nn.Linear(self.ssshape,500),\n",
    "                                        # nn.Dropout(p=0.5),\n",
    "                                        nn.ReLU(),\n",
    "                                        nn.Linear(500,20),\n",
    "                                        # nn.Dropout(p=0.5),\n",
    "                                        nn.ReLU(),\n",
    "                                        nn.Linear(20,2),)\n",
    "\n",
    "        self.scales        =     np.arange(1, Utils.Scales)\n",
    "        \n",
    "        # for name, param in self.resnet.named_parameters():\n",
    "        #     if name.startswith('0') or name.startswith('1') or name.startswith('4') or name.startswith('5'):\n",
    "        #         param.requires_grad = False\n",
    "        # for param in self.resnet.parameters():\n",
    "        #         param.requires_grad = False\n",
    "                \n",
    "    def _CWT(self,  x:np.array):\n",
    "        coefficients, _     =    pywt.cwt(x, self.scales, Utils.wavelet)\n",
    "        if Utils.Coefficient_Real:\n",
    "            coefficients    =    np.abs(coefficients)\n",
    "\n",
    "        return coefficients\n",
    "\n",
    "\n",
    "    def forward(self,\n",
    "                data,\n",
    "                ):\n",
    "        coefficients    =    self._CWT(data)\n",
    "\n",
    "        coefficients = np.repeat(coefficients[:, :, np.newaxis], 3, axis=2)\n",
    "        coefficients = torch.tensor(coefficients, dtype=torch.float32).permute(-1,0,1).unsqueeze(0).to(device = Utils.Device)\n",
    "        \n",
    "        out = self.resnet(coefficients)\n",
    "        out = self.fc(out.mean(dim=-1).view(self.ssshape))\n",
    "\n",
    "        return out.view(1,2)\n",
    "    def check(self,):\n",
    "        # Verify requires_grad for each parameter\n",
    "        for name, param in self.resnet.named_parameters():\n",
    "            print(name, param.requires_grad)"
   ]
  },
  {
   "cell_type": "code",
   "execution_count": 7,
   "metadata": {},
   "outputs": [],
   "source": [
    "class Simp_Conv(nn.Module):\n",
    "    def __init__(self,\n",
    "                 ):\n",
    "        super(Simp_Conv, self).__init__()\n",
    "        self.in_channels = 1\n",
    "        self.Conv = torch.nn.Sequential(\n",
    "                                        nn.BatchNorm2d(self.in_channels),\n",
    "                                        nn.Conv2d(self.in_channels, 50, kernel_size=3),\n",
    "                                        nn.ReLU(),\n",
    "                                        nn.Conv2d(50, 50, kernel_size=5,padding = 0,stride=2),\n",
    "                                        nn.ReLU(),\n",
    "                                        nn.Conv2d(50, 100, kernel_size=5,padding = 0,stride=2),\n",
    "                                        nn.ReLU(),\n",
    "                                        nn.Conv2d(100, 100, kernel_size=5,padding = 0,stride=2),\n",
    "                                        nn.ReLU(),)\n",
    "\n",
    "        self.fc = torch.nn.Sequential(\n",
    "                                        nn.Linear(100,50),\n",
    "                                        nn.Dropout(p=0.5),\n",
    "                                        nn.ReLU(),\n",
    "                                        nn.Linear(50,2),\n",
    "                                        )\n",
    "\n",
    "        self.scales        =     np.arange(1, Utils.Scales)\n",
    "        \n",
    "    def _CWT(self,  x:np.array):\n",
    "        coefficients, _     =    pywt.cwt(x, self.scales, Utils.wavelet)\n",
    "        if Utils.Coefficient_Real:\n",
    "            coefficients    =    np.abs(coefficients)\n",
    "\n",
    "        return coefficients\n",
    "\n",
    "\n",
    "    def forward(self,\n",
    "                data,\n",
    "                ):\n",
    "        coefficients    =    self._CWT(data)\n",
    "\n",
    "        coefficients = torch.tensor(coefficients, dtype=torch.float32).unsqueeze(0).unsqueeze(0).to(device = Utils.Device)\n",
    "        \n",
    "        out = self.Conv(coefficients)\n",
    "        # out = self.fc(out.mean(dim=-1).view(self.ssshape))\n",
    "        out = out.mean(dim=-1).mean(dim=-1)\n",
    "\n",
    "        out = self.fc(out)\n",
    "        return out#.view(1,2)\n",
    "    \n"
   ]
  },
  {
   "cell_type": "code",
   "execution_count": 8,
   "metadata": {},
   "outputs": [],
   "source": [
    "prediction_input_size   = Utils.input_horizon\n",
    "epochs                  = Utils.num_epochs\n",
    "# Simp_Conv().to(device = Utils.Device)#ResNetFeatureExtractor().to(device = Utils.Device)#\n",
    "model     = Model.Structure().to(device = Utils.Device)\n",
    "criterion = torch.nn.CrossEntropyLoss(label_smoothing = 0.3)\n",
    "optimizer = torch.optim.Adam(\n",
    "                            model.parameters(),\n",
    "                            lr=1e-4,\n",
    "                            # momentum=0.9,\n",
    "                            weight_decay=1e-3\n",
    "                            )"
   ]
  },
  {
   "cell_type": "code",
   "execution_count": 9,
   "metadata": {},
   "outputs": [
    {
     "name": "stdout",
     "output_type": "stream",
     "text": [
      "162\n"
     ]
    },
    {
     "name": "stderr",
     "output_type": "stream",
     "text": [
      "epoch=1- Test : 16 y=array([0, 1]): 100%|██████████| 162/162 [01:07<00:00,  2.39it/s, Accu=96.01754, loss_batch=0.4563373]\n"
     ]
    }
   ],
   "source": [
    "loss_t = []\n",
    "ll = (Dataloader.X_numpy.shape[1]//prediction_input_size)-1\n",
    "for epoch in range(1,epochs+1):\n",
    "    print(ll)\n",
    "    loop_train = tqdm.tqdm(range(ll),total=ll,desc=\"train\",position=0,leave=True)\n",
    "    loss_train_list = []\n",
    "\n",
    "    j = 0\n",
    "    accu = 0\n",
    "    for Batch in loop_train:#range(Dataloader.X_numpy.shape[0]):\n",
    "        for test in range(17):#[np.where(Dataloader.Test_ID_numpy[:,0] == data)[0][0] for data in [1,4,5,6,7,9,11,12,19,24,26,27]]:#28,29\n",
    "            model.train()\n",
    "            optimizer.zero_grad()\n",
    "            x = X_numpy[test,Batch*prediction_input_size:(Batch+1)*prediction_input_size]\n",
    "            y = Y_numpy[test,Batch*prediction_input_size: Batch*prediction_input_size+1]\n",
    "            x = (x-x.mean())/x.std()\n",
    "            prediction = model.forward(x)\n",
    "\n",
    "            if torch.argmax(prediction).item() == y:\n",
    "                accu +=1\n",
    "            j += 1    \n",
    "            \n",
    "            if y==0:\n",
    "                y = np.array([1,0])\n",
    "            else:\n",
    "                y = np.array([0,1])\n",
    "\n",
    "            loss_train = criterion(prediction, torch.tensor(y.reshape(1,2),dtype=torch.float32).to(device=Utils.Device))\n",
    "            # Back propagation\n",
    "            loss_train.backward()\n",
    "            # Update model parameters\n",
    "            optimizer.step()\n",
    "            loss_train_list.append(loss_train)\n",
    "            \n",
    "            if Batch%10 == 0:\n",
    "                # print(loss_train)\n",
    "                loop_train.set_description(f\"{epoch=}- Test : {test} {y=}\")\n",
    "                loop_train.set_postfix(\n",
    "                    loss_batch=\"{:.7f}\".format(torch.tensor(loss_train_list).mean()),\n",
    "                    Accu =\"{:.5f}\".format(100*accu/j),refresh=True, )\n",
    "                    \n",
    "        loss_t.append(torch.tensor(loss_train_list).mean())"
   ]
  },
  {
   "cell_type": "code",
   "execution_count": 12,
   "metadata": {},
   "outputs": [
    {
     "name": "stderr",
     "output_type": "stream",
     "text": [
      "train:   0%|          | 0/162 [00:00<?, ?it/s]"
     ]
    },
    {
     "name": "stderr",
     "output_type": "stream",
     "text": [
      "Test : 16 y=array([1.]): 100%|██████████| 162/162 [00:03<00:00, 49.55it/s, Accu=100.00000, loss_batch=0.4561607]\n",
      "Test : 17 y=array([0.]): 100%|██████████| 162/162 [00:02<00:00, 57.43it/s, Accu=98.75776, loss_batch=0.4561607]\n",
      "Test : 18 y=array([1.]): 100%|██████████| 162/162 [00:02<00:00, 56.97it/s, Accu=100.00000, loss_batch=0.4561607]\n",
      "Test : 19 y=array([0.]): 100%|██████████| 162/162 [00:02<00:00, 55.45it/s, Accu=100.00000, loss_batch=0.4561607]\n"
     ]
    }
   ],
   "source": [
    "accu_li =[]\n",
    "ll = (Dataloader.X_numpy.shape[1]//prediction_input_size)-1\n",
    "\n",
    "with torch.inference_mode():\n",
    "    for test in range(16,20):#[np.where(Dataloader.Test_ID_numpy[:,0] == data)[0][0] for data in [22,21,23,20]]:\n",
    "        loop_train = tqdm.tqdm(range(ll),total=ll,desc=\"train\",position=0,leave=True)\n",
    "        j = 0\n",
    "        accu = 0\n",
    "        for Batch in loop_train:\n",
    "            model.eval()\n",
    "\n",
    "            x = X_numpy[test,Batch*prediction_input_size:(Batch+1)*prediction_input_size]\n",
    "            y = Y_numpy[test,Batch*prediction_input_size: Batch*prediction_input_size+1]\n",
    "            v = model(x)\n",
    "\n",
    "            if torch.argmax(v).item() == y:\n",
    "                accu +=1\n",
    "\n",
    "            j += 1\n",
    "            if Batch%10 == 0:\n",
    "                loop_train.set_description(f\"Test : {test} {y=}\")\n",
    "                loop_train.set_postfix(\n",
    "                    loss_batch=\"{:.7f}\".format(torch.tensor(loss_train_list).mean()),\n",
    "                    Accu =\"{:.5f}\".format(100*accu/j),refresh=True, )\n",
    "            accu_li.append(100*accu/j)\n",
    "# print(100*accu/j)"
   ]
  }
 ],
 "metadata": {
  "kernelspec": {
   "display_name": "torch3.11",
   "language": "python",
   "name": "python3"
  },
  "language_info": {
   "codemirror_mode": {
    "name": "ipython",
    "version": 3
   },
   "file_extension": ".py",
   "mimetype": "text/x-python",
   "name": "python",
   "nbconvert_exporter": "python",
   "pygments_lexer": "ipython3",
   "version": "3.11.4"
  },
  "orig_nbformat": 4
 },
 "nbformat": 4,
 "nbformat_minor": 2
}

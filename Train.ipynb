{
 "cells": [
  {
   "cell_type": "code",
   "execution_count": 1,
   "metadata": {},
   "outputs": [],
   "source": [
    "import Utils\n",
    "Utils.set_seed(Utils.seed)\n",
    "\n",
    "import Dataloader,  Model\n",
    "import torch\n",
    "import pywt\n",
    "import pandas               as  pd\n",
    "import numpy                as  np\n",
    "import matplotlib.pyplot    as  plt\n",
    "import torch.nn             as  nn\n"
   ]
  },
  {
   "cell_type": "markdown",
   "metadata": {},
   "source": [
    "# Hyper Parameters"
   ]
  },
  {
   "cell_type": "code",
   "execution_count": 2,
   "metadata": {},
   "outputs": [],
   "source": [
    "# model\n",
    "# CNN\n",
    "CNN_inChannel = 1\n",
    "CNN_outChannel = 10"
   ]
  },
  {
   "cell_type": "markdown",
   "metadata": {},
   "source": [
    "# Continuous Wavelet transform (CWT)"
   ]
  },
  {
   "cell_type": "code",
   "execution_count": 3,
   "metadata": {},
   "outputs": [
    {
     "name": "stdout",
     "output_type": "stream",
     "text": [
      "cmor1-1.0\n",
      "gaus1\n",
      "morl\n",
      "mexh\n"
     ]
    }
   ],
   "source": [
    "scales = np.arange(1, Utils.Scales)\n",
    "\n",
    "for wavelet in reversed(Utils.wavelet_lis):\n",
    "    # Perform Continuous Wavelet Transform\n",
    "    print(wavelet)\n",
    "    coefficients, frequencies = pywt.cwt(Dataloader.X_numpy[1,:Utils.input_horizon], scales, wavelet)\n",
    "\n",
    "    # # Plot the results\n",
    "    # plt.figure(figsize=(10, 6))\n",
    "    # plt.imshow(np.abs(coefficients), extent=[0, 1, 1, Scales], aspect='auto', cmap='jet')\n",
    "    # # plt.colorbar(label='Magnitude')\n",
    "    # plt.title('Continuous Wavelet Transform')\n",
    "    # plt.xlabel('Time')\n",
    "    # plt.ylabel('Scale')\n",
    "    # plt.show()\n",
    "\n",
    "if Utils.Coefficient_Real:\n",
    "    coefficients = np.abs(coefficients)"
   ]
  },
  {
   "cell_type": "markdown",
   "metadata": {},
   "source": [
    "# Model"
   ]
  },
  {
   "cell_type": "markdown",
   "metadata": {},
   "source": [
    "in ``` h0 = torch.zeros(self.num_layers, x.size(0), self.hidden_size).to(x.device) ``` x is input and data will be generated in device"
   ]
  },
  {
   "cell_type": "code",
   "execution_count": 4,
   "metadata": {},
   "outputs": [],
   "source": [
    "class Structure(nn.Module):\n",
    "    def __init__(self,):\n",
    "        super(Structure, self).__init__()\n",
    "        self.LSTM = Model.LSTMModel(Utils.input_horizon                 ).to(device = Utils.Device)\n",
    "        self.CNN  = Model.InceptionBlock(CNN_inChannel,CNN_outChannel   ).to(device = Utils.Device)\n",
    "\n",
    "        # CWT\n",
    "        self.scales = np.arange(1, Utils.Scales)\n",
    "\n",
    "        # MLP\n",
    "        self.Classifier = nn.Linear(200,1)\n",
    "\n",
    "    def _CWT(self,  x:np.array):\n",
    "        coefficients, _ = pywt.cwt(x, self.scales, Utils.wavelet)\n",
    "        if Utils.Coefficient_Real:\n",
    "            coefficients = np.abs(coefficients)\n",
    "        return coefficients\n",
    "\n",
    "    def forward(self, x:np.array):\n",
    "        coefficients = self._CWT(x)\n",
    "\n",
    "        _L = torch.tensor(x, dtype=torch.float32).unsqueeze(0).to(device = Utils.Device)\n",
    "        _L_out = self.LSTM(_L)\n",
    "\n",
    "        _C = torch.tensor(coefficients, dtype=torch.float32).unsqueeze(0).unsqueeze(0).to(device = Utils.Device)\n",
    "        _C_out = inception_block = self.CNN(_C)\n",
    "\n",
    "        out = torch.cat([_C_out,_L_out], dim=1)\n",
    "        out = self.Classifier(out)\n",
    "        return out"
   ]
  },
  {
   "cell_type": "code",
   "execution_count": 7,
   "metadata": {},
   "outputs": [],
   "source": [
    "test = Structure().to(device = Utils.Device)"
   ]
  },
  {
   "cell_type": "code",
   "execution_count": 8,
   "metadata": {},
   "outputs": [],
   "source": [
    "gg = test(Dataloader.X_numpy[1,:Utils.input_horizon])"
   ]
  },
  {
   "cell_type": "code",
   "execution_count": 10,
   "metadata": {},
   "outputs": [
    {
     "data": {
      "text/plain": [
       "tensor([[-0.1311]], device='cuda:0', grad_fn=<AddmmBackward0>)"
      ]
     },
     "execution_count": 10,
     "metadata": {},
     "output_type": "execute_result"
    }
   ],
   "source": [
    "gg"
   ]
  }
 ],
 "metadata": {
  "kernelspec": {
   "display_name": "torch3.11",
   "language": "python",
   "name": "python3"
  },
  "language_info": {
   "codemirror_mode": {
    "name": "ipython",
    "version": 3
   },
   "file_extension": ".py",
   "mimetype": "text/x-python",
   "name": "python",
   "nbconvert_exporter": "python",
   "pygments_lexer": "ipython3",
   "version": "3.11.4"
  },
  "orig_nbformat": 4
 },
 "nbformat": 4,
 "nbformat_minor": 2
}

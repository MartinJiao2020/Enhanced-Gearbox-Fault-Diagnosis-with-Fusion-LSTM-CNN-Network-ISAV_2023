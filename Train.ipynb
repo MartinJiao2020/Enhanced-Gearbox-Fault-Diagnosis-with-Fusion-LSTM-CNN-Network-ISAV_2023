{
 "cells": [
  {
   "cell_type": "code",
   "execution_count": 1,
   "metadata": {},
   "outputs": [],
   "source": [
    "import torch\n",
    "import pywt\n",
    "import pandas               as  pd\n",
    "import numpy                as  np\n",
    "import matplotlib.pyplot    as  plt\n",
    "import torch.nn             as  nn"
   ]
  },
  {
   "cell_type": "markdown",
   "metadata": {},
   "source": [
    "# Hyper Parameters"
   ]
  },
  {
   "cell_type": "code",
   "execution_count": 2,
   "metadata": {},
   "outputs": [],
   "source": [
    "# Dataset\n",
    "samples_per_test    = 32768\n",
    "Total_test          = 29\n",
    "test_Duration       = 2\n",
    "\n",
    "# model         Maybe adding dropout in LSTM is good\n",
    "input_horizon       = 200\n",
    "# model-LSTM\n",
    "LSTM_outFeature     = 100\n",
    "LSTM_NumLayer       = 2\n",
    "LSTM_hidden_size    = 64\n",
    "\n",
    "# CWT\n",
    "Scales              = 50\n",
    "wavelet_lis         = ['mexh','morl','gaus1','cmor1-1.0']   # Define the wavelet and scales\n",
    "wavelet             = wavelet_lis[1]                        # You can choose other wavelet functions as well\n",
    "Coefficient_Real    = True\n",
    "\n"
   ]
  },
  {
   "cell_type": "markdown",
   "metadata": {},
   "source": [
    "# Reading dataset\n",
    "Read the CSV file into a DataFrame"
   ]
  },
  {
   "cell_type": "code",
   "execution_count": 3,
   "metadata": {},
   "outputs": [],
   "source": [
    "df = pd.read_csv('Dataset_BinaryClass.csv')\n",
    "df['Faulty'] = df['Faulty'].replace({False: 0, True: 1})\n",
    "\n",
    "\"\"\"\n",
    "print(df.head())\n",
    "\n",
    "its better to keep numpy format because CWT uses numpy and before network make it pytorch\n",
    "\n",
    "X = torch.tensor(df['Datas' ].values).reshape(Total_test,samples_per_test)\n",
    "Y = torch.tensor(df['Faulty'].values).reshape(Total_test,samples_per_test)\n",
    "\"\"\"\n",
    "\n",
    "X_numpy = df['Datas' ].values.reshape(Total_test,samples_per_test)\n",
    "Y_numpy = df['Faulty'].values.reshape(Total_test,samples_per_test)"
   ]
  },
  {
   "cell_type": "code",
   "execution_count": 30,
   "metadata": {},
   "outputs": [
    {
     "data": {
      "text/html": [
       "<div>\n",
       "<style scoped>\n",
       "    .dataframe tbody tr th:only-of-type {\n",
       "        vertical-align: middle;\n",
       "    }\n",
       "\n",
       "    .dataframe tbody tr th {\n",
       "        vertical-align: top;\n",
       "    }\n",
       "\n",
       "    .dataframe thead th {\n",
       "        text-align: right;\n",
       "    }\n",
       "</style>\n",
       "<table border=\"1\" class=\"dataframe\">\n",
       "  <thead>\n",
       "    <tr style=\"text-align: right;\">\n",
       "      <th></th>\n",
       "      <th>Datas</th>\n",
       "      <th>Faulty</th>\n",
       "    </tr>\n",
       "  </thead>\n",
       "  <tbody>\n",
       "    <tr>\n",
       "      <th>0</th>\n",
       "      <td>0.000000</td>\n",
       "      <td>0</td>\n",
       "    </tr>\n",
       "    <tr>\n",
       "      <th>1</th>\n",
       "      <td>0.002565</td>\n",
       "      <td>0</td>\n",
       "    </tr>\n",
       "    <tr>\n",
       "      <th>2</th>\n",
       "      <td>0.000000</td>\n",
       "      <td>0</td>\n",
       "    </tr>\n",
       "    <tr>\n",
       "      <th>3</th>\n",
       "      <td>0.000000</td>\n",
       "      <td>0</td>\n",
       "    </tr>\n",
       "    <tr>\n",
       "      <th>4</th>\n",
       "      <td>0.000000</td>\n",
       "      <td>0</td>\n",
       "    </tr>\n",
       "    <tr>\n",
       "      <th>...</th>\n",
       "      <td>...</td>\n",
       "      <td>...</td>\n",
       "    </tr>\n",
       "    <tr>\n",
       "      <th>950267</th>\n",
       "      <td>0.102588</td>\n",
       "      <td>0</td>\n",
       "    </tr>\n",
       "    <tr>\n",
       "      <th>950268</th>\n",
       "      <td>0.087200</td>\n",
       "      <td>0</td>\n",
       "    </tr>\n",
       "    <tr>\n",
       "      <th>950269</th>\n",
       "      <td>0.017953</td>\n",
       "      <td>0</td>\n",
       "    </tr>\n",
       "    <tr>\n",
       "      <th>950270</th>\n",
       "      <td>-0.164141</td>\n",
       "      <td>0</td>\n",
       "    </tr>\n",
       "    <tr>\n",
       "      <th>950271</th>\n",
       "      <td>0.064118</td>\n",
       "      <td>0</td>\n",
       "    </tr>\n",
       "  </tbody>\n",
       "</table>\n",
       "<p>950272 rows × 2 columns</p>\n",
       "</div>"
      ],
      "text/plain": [
       "           Datas  Faulty\n",
       "0       0.000000       0\n",
       "1       0.002565       0\n",
       "2       0.000000       0\n",
       "3       0.000000       0\n",
       "4       0.000000       0\n",
       "...          ...     ...\n",
       "950267  0.102588       0\n",
       "950268  0.087200       0\n",
       "950269  0.017953       0\n",
       "950270 -0.164141       0\n",
       "950271  0.064118       0\n",
       "\n",
       "[950272 rows x 2 columns]"
      ]
     },
     "execution_count": 30,
     "metadata": {},
     "output_type": "execute_result"
    }
   ],
   "source": [
    "df"
   ]
  },
  {
   "cell_type": "markdown",
   "metadata": {},
   "source": [
    "# Continuous Wavelet transform (CWT)"
   ]
  },
  {
   "cell_type": "code",
   "execution_count": 29,
   "metadata": {},
   "outputs": [
    {
     "name": "stdout",
     "output_type": "stream",
     "text": [
      "cmor1-1.0\n",
      "gaus1\n",
      "morl\n",
      "mexh\n"
     ]
    }
   ],
   "source": [
    "scales = np.arange(1, Scales)\n",
    "\n",
    "for wavelet in reversed(wavelet_lis):\n",
    "    # Perform Continuous Wavelet Transform\n",
    "    print(wavelet)\n",
    "    coefficients, frequencies = pywt.cwt(X_numpy[1,:input_horizon], scales, wavelet)\n",
    "\n",
    "    # Plot the results\n",
    "    plt.figure(figsize=(10, 6))\n",
    "    plt.imshow(np.abs(coefficients), extent=[0, 1, 1, Scales], aspect='auto', cmap='jet')\n",
    "    plt.colorbar(label='Magnitude')\n",
    "    plt.title('Continuous Wavelet Transform')\n",
    "    plt.xlabel('Time')\n",
    "    plt.ylabel('Scale')\n",
    "    plt.show()\n",
    "\n",
    "if Coefficient_Real:\n",
    "    coefficients = np.abs(coefficients)"
   ]
  },
  {
   "cell_type": "code",
   "execution_count": 26,
   "metadata": {},
   "outputs": [],
   "source": [
    "# Define the LSTM model\n",
    "class LSTMModel(nn.Module):\n",
    "    def __init__(self,\n",
    "                input_horizon   :int ,\n",
    "                hidden_size     :int    = LSTM_hidden_size,\n",
    "                num_layers      :int    = LSTM_NumLayer,\n",
    "                output_size     :int    = LSTM_outFeature,\n",
    "                DropOut         :float  = 0)->None:\n",
    "        super(LSTMModel, self).__init__()\n",
    "        self.hidden_size    = hidden_size\n",
    "        self.num_layers     = num_layers\n",
    "        \n",
    "        self.lstm           = nn.LSTM(input_horizon, hidden_size, num_layers, batch_first=True)\n",
    "        self.fc             = nn.Linear(hidden_size, output_size)\n",
    "        \n",
    "    def forward(self, x)->tuple:\n",
    "        out, (h_state,C_state) = self.lstm(x)\n",
    "        \n",
    "        print(out.shape)\n",
    "        if len(out.shape)==2:\n",
    "            out = self.fc(out[:, :])\n",
    "        if len(out.shape)==3:\n",
    "            out = self.fc(out[:, -1, :])\n",
    "        return out#,h_state,C_state"
   ]
  },
  {
   "cell_type": "markdown",
   "metadata": {},
   "source": [
    "in ``` h0 = torch.zeros(self.num_layers, x.size(0), self.hidden_size).to(x.device) ``` x is input and data will be generated in device"
   ]
  },
  {
   "cell_type": "code",
   "execution_count": 27,
   "metadata": {},
   "outputs": [
    {
     "name": "stdout",
     "output_type": "stream",
     "text": [
      "torch.Size([1, 64])\n"
     ]
    }
   ],
   "source": [
    "model = LSTMModel(input_horizon)\n",
    "\n",
    "\n",
    "# coefficients\n",
    "\n",
    "output = model(torch.tensor(X_numpy[1,:input_horizon], dtype=torch.float32).unsqueeze(0))\n",
    "\n",
    "# print(\"Output shape:\", output.shape)\n"
   ]
  }
 ],
 "metadata": {
  "kernelspec": {
   "display_name": "torch3.11",
   "language": "python",
   "name": "python3"
  },
  "language_info": {
   "codemirror_mode": {
    "name": "ipython",
    "version": 3
   },
   "file_extension": ".py",
   "mimetype": "text/x-python",
   "name": "python",
   "nbconvert_exporter": "python",
   "pygments_lexer": "ipython3",
   "version": "3.11.4"
  },
  "orig_nbformat": 4
 },
 "nbformat": 4,
 "nbformat_minor": 2
}
